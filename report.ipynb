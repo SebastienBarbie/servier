{
 "cells": [
  {
   "cell_type": "markdown",
   "metadata": {
    "colab": {
     "base_uri": "https://localhost:8080/"
    },
    "id": "eU2TiLi5lXjC",
    "outputId": "a8dbe410-fbc5-4bda-f61f-1dcee37aca72",
    "scrolled": true
   },
   "source": [
    "Récupération du jeu de données"
   ]
  },
  {
   "cell_type": "code",
   "execution_count": 1,
   "metadata": {},
   "outputs": [],
   "source": [
    "!tar -xzf test_technique.tar.gz --exclude=\".*\""
   ]
  },
  {
   "cell_type": "code",
   "execution_count": 2,
   "metadata": {
    "id": "NArtih6zLoj2"
   },
   "outputs": [],
   "source": [
    "import numpy as np\n",
    "import os\n",
    "import PIL\n",
    "from PIL import Image\n",
    "import tensorflow as tf\n",
    "import matplotlib.pyplot as plt\n",
    "import cv2\n",
    "from collections import Counter\n",
    "import seaborn as sns\n",
    "# import tensorflow_datasets as tfds\n",
    "import albumentations as A\n",
    "from functools import partial\n",
    "\n",
    "import splitfolders\n",
    "\n",
    "import tensorflow as tf\n",
    "from tensorflow.keras import layers\n",
    "from keras.models import Sequential\n",
    "from keras.layers import Dense, Dropout, Flatten, Conv2D, MaxPooling2D, Rescaling, Layer, BatchNormalization, InputLayer\n",
    "\n",
    "from tensorflow.keras.callbacks import EarlyStopping,ReduceLROnPlateau\n",
    "\n",
    "# AUTOTUNE = tf.data.experimental.AUTOTUNE\n",
    "from tensorflow.keras.preprocessing.image import ImageDataGenerator\n",
    "\n",
    "from keras.callbacks import ModelCheckpoint"
   ]
  },
  {
   "cell_type": "code",
   "execution_count": 3,
   "metadata": {
    "colab": {
     "base_uri": "https://localhost:8080/"
    },
    "id": "TlBlEiU1gIW9",
    "outputId": "92f24bab-c232-4350-daee-b66b1eed788f"
   },
   "outputs": [
    {
     "data": {
      "text/plain": [
       "['EO', 'IO', 'IPTE', 'LO', 'PTE']"
      ]
     },
     "execution_count": 3,
     "metadata": {},
     "output_type": "execute_result"
    }
   ],
   "source": [
    "batch_size = 32\n",
    "img_width = 224\n",
    "img_height = 224\n",
    "\n",
    "path = os.path.abspath('./Test_Technique_Image/Neuroflux_disorder/')\n",
    "outpath = './Test_Technique_Image'\n",
    "classes = os.listdir(path)\n",
    "classes"
   ]
  },
  {
   "cell_type": "markdown",
   "metadata": {},
   "source": [
    "Après avoir récupéré le data set, nous allons le diviser en trois sous dossier. Un pour l'entraînement, un pour la validation et un pour les tests. Le split se fait avec un pourcentage de 70/20/10."
   ]
  },
  {
   "cell_type": "code",
   "execution_count": null,
   "metadata": {},
   "outputs": [],
   "source": [
    "splitfolders.ratio(path,\n",
    "                    output='./Test_Technique_Image',\n",
    "                    seed=42,\n",
    "                    ratio=(.7, .2, .1),\n",
    "                    group_prefix=None,\n",
    "                    move=True\n",
    "                    )"
   ]
  },
  {
   "cell_type": "code",
   "execution_count": null,
   "metadata": {},
   "outputs": [],
   "source": [
    "train_path = outpath + \"\\\\train\" \n",
    "val_path = outpath + \"\\\\val\" \n",
    "test_path = outpath + \"\\\\test\" "
   ]
  },
  {
   "cell_type": "code",
   "execution_count": null,
   "metadata": {},
   "outputs": [],
   "source": [
    "image_gen = ImageDataGenerator(\n",
    "                                  rescale = 1./255,\n",
    "                                  shear_range = 0.2,\n",
    "                                  zoom_range = 0.2,\n",
    "                                  horizontal_flip = True,\n",
    "                               )\n",
    "\n",
    "test_data_gen = ImageDataGenerator(rescale = 1./255)"
   ]
  },
  {
   "cell_type": "markdown",
   "metadata": {},
   "source": [
    "Etant donné le peu de données, nous mettons en place un ImageDataGenerator permettant l'application de filtres sur les données d'entraînement. Nous laissons cependant les données de validation et de test inchangées (seulement une normalisation)."
   ]
  },
  {
   "cell_type": "code",
   "execution_count": 13,
   "metadata": {
    "colab": {
     "base_uri": "https://localhost:8080/"
    },
    "id": "zK9_tkybLoj3",
    "outputId": "98ee078c-6fbb-4e3a-b142-0090cb76c220"
   },
   "outputs": [
    {
     "ename": "NameError",
     "evalue": "name 'image_gen' is not defined",
     "output_type": "error",
     "traceback": [
      "\u001b[1;31m---------------------------------------------------------------------------\u001b[0m",
      "\u001b[1;31mNameError\u001b[0m                                 Traceback (most recent call last)",
      "Cell \u001b[1;32mIn[13], line 6\u001b[0m\n\u001b[0;32m      1\u001b[0m \u001b[38;5;28;01mfrom\u001b[39;00m \u001b[38;5;21;01mtensorflow\u001b[39;00m\u001b[38;5;21;01m.\u001b[39;00m\u001b[38;5;21;01mpython\u001b[39;00m\u001b[38;5;21;01m.\u001b[39;00m\u001b[38;5;21;01mframework\u001b[39;00m\u001b[38;5;21;01m.\u001b[39;00m\u001b[38;5;21;01mop_def_library_pybind\u001b[39;00m \u001b[38;5;28;01mimport\u001b[39;00m process_inputs\n\u001b[0;32m      2\u001b[0m \u001b[38;5;28;01mfrom\u001b[39;00m \u001b[38;5;21;01mkeras\u001b[39;00m\u001b[38;5;21;01m.\u001b[39;00m\u001b[38;5;21;01mapi\u001b[39;00m\u001b[38;5;21;01m.\u001b[39;00m\u001b[38;5;21;01m_v2\u001b[39;00m\u001b[38;5;21;01m.\u001b[39;00m\u001b[38;5;21;01mkeras\u001b[39;00m \u001b[38;5;28;01mimport\u001b[39;00m preprocessing\n\u001b[1;32m----> 6\u001b[0m train_ds \u001b[38;5;241m=\u001b[39m \u001b[43mimage_gen\u001b[49m\u001b[38;5;241m.\u001b[39mflow_from_directory(\n\u001b[0;32m      7\u001b[0m     train_path,\n\u001b[0;32m      8\u001b[0m     seed\u001b[38;5;241m=\u001b[39m\u001b[38;5;241m42\u001b[39m,\n\u001b[0;32m      9\u001b[0m     shuffle\u001b[38;5;241m=\u001b[39m\u001b[38;5;28;01mTrue\u001b[39;00m,\n\u001b[0;32m     10\u001b[0m     batch_size\u001b[38;5;241m=\u001b[39mbatch_size,\n\u001b[0;32m     11\u001b[0m     target_size \u001b[38;5;241m=\u001b[39m (img_height, img_width)\n\u001b[0;32m     12\u001b[0m     )\n\u001b[0;32m     14\u001b[0m val_ds \u001b[38;5;241m=\u001b[39m image_gen\u001b[38;5;241m.\u001b[39mflow_from_directory(\n\u001b[0;32m     15\u001b[0m     val_path,\n\u001b[0;32m     16\u001b[0m     seed\u001b[38;5;241m=\u001b[39m\u001b[38;5;241m42\u001b[39m,\n\u001b[1;32m   (...)\u001b[0m\n\u001b[0;32m     19\u001b[0m     target_size \u001b[38;5;241m=\u001b[39m (img_height, img_width)\n\u001b[0;32m     20\u001b[0m     )\n\u001b[0;32m     22\u001b[0m test_ds \u001b[38;5;241m=\u001b[39m test_data_gen\u001b[38;5;241m.\u001b[39mflow_from_directory(\n\u001b[0;32m     23\u001b[0m     test_path,\n\u001b[0;32m     24\u001b[0m     seed\u001b[38;5;241m=\u001b[39m\u001b[38;5;241m123\u001b[39m,\n\u001b[0;32m     25\u001b[0m     batch_size\u001b[38;5;241m=\u001b[39mbatch_size,\n\u001b[0;32m     26\u001b[0m     target_size \u001b[38;5;241m=\u001b[39m (img_height, img_width)\n\u001b[0;32m     27\u001b[0m     )\n",
      "\u001b[1;31mNameError\u001b[0m: name 'image_gen' is not defined"
     ]
    }
   ],
   "source": [
    "from tensorflow.python.framework.op_def_library_pybind import process_inputs\n",
    "from keras.api._v2.keras import preprocessing\n",
    "\n",
    "\n",
    "\n",
    "train_ds = image_gen.flow_from_directory(\n",
    "    train_path,\n",
    "    seed=42,\n",
    "    shuffle=True,\n",
    "    batch_size=batch_size,\n",
    "    target_size = (img_height, img_width)\n",
    "    )\n",
    "\n",
    "val_ds = image_gen.flow_from_directory(\n",
    "    val_path,\n",
    "    seed=42,\n",
    "    shuffle=True,\n",
    "    batch_size=batch_size,\n",
    "    target_size = (img_height, img_width)\n",
    "    )\n",
    "\n",
    "test_ds = test_data_gen.flow_from_directory(\n",
    "    test_path,\n",
    "    seed=123,\n",
    "    batch_size=batch_size,\n",
    "    target_size = (img_height, img_width)\n",
    "    )"
   ]
  },
  {
   "cell_type": "code",
   "execution_count": null,
   "metadata": {},
   "outputs": [],
   "source": [
    "cdic = {}\n",
    "for i in range(len(classes)):\n",
    "    cdic[i] = classes[i]"
   ]
  },
  {
   "cell_type": "code",
   "execution_count": null,
   "metadata": {},
   "outputs": [],
   "source": [
    "def np_to_int(nparr):\n",
    "    for i in range(len(nparr)):\n",
    "        if nparr[i] == 1:\n",
    "            return i\n",
    "    return 0"
   ]
  },
  {
   "cell_type": "code",
   "execution_count": null,
   "metadata": {
    "scrolled": true
   },
   "outputs": [],
   "source": [
    "plt.figure(figsize=(12, 12))\n",
    "for i in range(0, 10):\n",
    "    plt.subplot(2, 5, i+1)\n",
    "    for X_batch, Y_batch in train_ds:\n",
    "        image = X_batch[0]        \n",
    "        plt.axis('off')\n",
    "        plt.title(cdic[np_to_int(Y_batch[0])])\n",
    "        plt.imshow(np.squeeze(image),cmap='gray',interpolation='nearest')\n",
    "        break\n",
    "plt.tight_layout()\n",
    "plt.show()"
   ]
  },
  {
   "cell_type": "code",
   "execution_count": null,
   "metadata": {
    "scrolled": true
   },
   "outputs": [],
   "source": [
    "# ------------- Liste des classes et leur représentation dans le dataset -------------\n",
    "classes_and_number = sorted(counts.items(), key = lambda x: x[1], reverse = True)[:13]\n",
    "\n",
    "Y = []\n",
    "for c in classes:\n",
    "    if c in labels:\n",
    "        dir_path = os.path.join(path, c)\n",
    "        label = labels.index(c)\n",
    "        for i in os.listdir(dir_path):\n",
    "            Y.append(label)\n",
    "\n",
    "\n",
    "# ------------- Liste des labels -------------\n",
    "\n",
    "obj = Counter(Y)\n",
    "\n",
    "fig = plt.figure(figsize = (15, 5))\n",
    "sns.barplot(x = [labels[i] for i in obj.keys()], y = list(obj.values())).set_title(\"Nombre d'images dans chaque classe\")\n",
    "plt.margins(x = 0)\n",
    "plt.show()"
   ]
  },
  {
   "cell_type": "code",
   "execution_count": 25,
   "metadata": {},
   "outputs": [
    {
     "name": "stdout",
     "output_type": "stream",
     "text": [
      "Found 1296 files belonging to 5 classes.\n",
      "Using 1037 files for training.\n",
      "Found 1296 files belonging to 5 classes.\n",
      "Using 1037 files for training.\n"
     ]
    }
   ],
   "source": [
    "train = tf.keras.utils.image_dataset_from_directory(\n",
    "    path,\n",
    "    labels='inferred',\n",
    "    label_mode='categorical',\n",
    "    class_names=classes,\n",
    "    batch_size=32,\n",
    "    image_size=(32, 32),\n",
    "    seed=123,\n",
    "    validation_split=0.2,\n",
    "    subset=\"training\",\n",
    "    interpolation='bilinear',\n",
    ")\n",
    "\n",
    "val = tf.keras.utils.image_dataset_from_directory(\n",
    "    path,\n",
    "    labels='inferred',\n",
    "    label_mode='categorical',\n",
    "    class_names=classes,\n",
    "    batch_size=32,\n",
    "    image_size=(32, 32),\n",
    "    seed=123,\n",
    "    validation_split=0.2,\n",
    "    subset=\"training\",\n",
    "    interpolation='bilinear',\n",
    ")\n"
   ]
  },
  {
   "cell_type": "code",
   "execution_count": 37,
   "metadata": {},
   "outputs": [
    {
     "name": "stdout",
     "output_type": "stream",
     "text": [
      "Liste des classes et leur représentation dans le dataset :\n",
      "\n",
      "[('PTE', 580), ('LO', 240), ('EO', 233), ('IPTE', 171), ('IO', 72)]\n",
      "\n",
      "\n",
      "Liste des labels :\n",
      "\n",
      "['PTE', 'LO', 'EO', 'IPTE', 'IO']\n",
      "\n",
      "\n"
     ]
    },
    {
     "data": {
      "image/png": "[encoded data removed]",
      "text/plain": [
       "<Figure size 1500x500 with 1 Axes>"
      ]
     },
     "metadata": {},
     "output_type": "display_data"
    }
   ],
   "source": [
    "counts = {}\n",
    "for c in classes:\n",
    "    counts[c] = len(os.listdir(os.path.join(path, c)))\n",
    "\n",
    "\n",
    "# ------------- Liste des classes et leur représentation dans le dataset -------------\n",
    "classes_and_number = sorted(counts.items(), key = lambda x: x[1], reverse = True)[:13]\n",
    "print(\"Liste des classes et leur représentation dans le dataset :\\n\")\n",
    "print(classes_and_number)\n",
    "print(\"\\n\")\n",
    "\n",
    "\n",
    "# ------------- Liste des labels -------------\n",
    "labels = [i[0] for i in classes_and_number]\n",
    "print(\"Liste des labels :\\n\")\n",
    "print(labels)\n",
    "print(\"\\n\")\n",
    "\n",
    "\n",
    "# ------------- Plotting du nombre d'images dans chaque classe -------------\n",
    "Y = []\n",
    "for c in classes:\n",
    "    if c in labels:\n",
    "        dir_path = os.path.join(path, c)\n",
    "        label = labels.index(c)\n",
    "        for i in os.listdir(dir_path):\n",
    "            Y.append(label)\n",
    "\n",
    "obj = Counter(Y)\n",
    "\n",
    "fig = plt.figure(figsize = (15, 5))\n",
    "sns.barplot(x = [labels[i] for i in obj.keys()], y = list(obj.values())).set_title(\"Nombre d'images dans chaque classe\")\n",
    "plt.margins(x = 0)\n",
    "plt.show()"
   ]
  },
  {
   "cell_type": "markdown",
   "metadata": {},
   "source": [
    "On peut voir que le jeu de données est déséquilibré et que cela va fausser l'entraînement de notre réseau de convolution. Nous allons donc mettre en place des poids pour que le réseau apprenne correctement."
   ]
  },
  {
   "cell_type": "code",
   "execution_count": 26,
   "metadata": {},
   "outputs": [
    {
     "data": {
      "text/plain": [
       "{0: 0.4291845493562232,\n",
       " 1: 1.3888888888888888,\n",
       " 2: 0.5847953216374269,\n",
       " 3: 0.4166666666666667,\n",
       " 4: 0.1724137931034483}"
      ]
     },
     "execution_count": 26,
     "metadata": {},
     "output_type": "execute_result"
    }
   ],
   "source": [
    "counts = {}\n",
    "total_files = 0\n",
    "for c in classes:\n",
    "    length = len(os.listdir(os.path.join(path, c)))\n",
    "    counts[c] = length\n",
    "    total_files += length\n",
    "    \n",
    "for k, v in counts.items():\n",
    "    counts[k] = 1 / v * 100\n",
    "\n",
    "coeff = {}\n",
    "for i in range(len(counts)):\n",
    "    coeff[i] = counts[classes[i]]\n",
    "    \n",
    "coeff"
   ]
  },
  {
   "cell_type": "code",
   "execution_count": 27,
   "metadata": {},
   "outputs": [
    {
     "name": "stdout",
     "output_type": "stream",
     "text": [
      "WARNING:tensorflow:Using a while_loop for converting RngReadAndSkip cause there is no registered converter for this op.\n",
      "WARNING:tensorflow:Using a while_loop for converting Bitcast cause there is no registered converter for this op.\n",
      "WARNING:tensorflow:Using a while_loop for converting Bitcast cause there is no registered converter for this op.\n",
      "WARNING:tensorflow:Using a while_loop for converting StatelessRandomUniformV2 cause there is no registered converter for this op.\n",
      "WARNING:tensorflow:Using a while_loop for converting ImageProjectiveTransformV3 cause there is no registered converter for this op.\n",
      "WARNING:tensorflow:Using a while_loop for converting RngReadAndSkip cause there is no registered converter for this op.\n",
      "WARNING:tensorflow:Using a while_loop for converting Bitcast cause there is no registered converter for this op.\n",
      "WARNING:tensorflow:Using a while_loop for converting Bitcast cause there is no registered converter for this op.\n",
      "WARNING:tensorflow:Using a while_loop for converting StatelessRandomUniformV2 cause there is no registered converter for this op.\n",
      "WARNING:tensorflow:Using a while_loop for converting ImageProjectiveTransformV3 cause there is no registered converter for this op.\n",
      "WARNING:tensorflow:Using a while_loop for converting RngReadAndSkip cause there is no registered converter for this op.\n",
      "WARNING:tensorflow:Using a while_loop for converting Bitcast cause there is no registered converter for this op.\n",
      "WARNING:tensorflow:Using a while_loop for converting Bitcast cause there is no registered converter for this op.\n",
      "WARNING:tensorflow:Using a while_loop for converting StatelessRandomUniformV2 cause there is no registered converter for this op.\n",
      "WARNING:tensorflow:Using a while_loop for converting RngReadAndSkip cause there is no registered converter for this op.\n",
      "WARNING:tensorflow:Using a while_loop for converting Bitcast cause there is no registered converter for this op.\n",
      "WARNING:tensorflow:Using a while_loop for converting Bitcast cause there is no registered converter for this op.\n",
      "WARNING:tensorflow:Using a while_loop for converting StatelessRandomUniformV2 cause there is no registered converter for this op.\n",
      "WARNING:tensorflow:Using a while_loop for converting ImageProjectiveTransformV3 cause there is no registered converter for this op.\n",
      "WARNING:tensorflow:Using a while_loop for converting RngReadAndSkip cause there is no registered converter for this op.\n",
      "WARNING:tensorflow:Using a while_loop for converting Bitcast cause there is no registered converter for this op.\n",
      "WARNING:tensorflow:Using a while_loop for converting Bitcast cause there is no registered converter for this op.\n",
      "WARNING:tensorflow:Using a while_loop for converting StatelessRandomUniformV2 cause there is no registered converter for this op.\n",
      "WARNING:tensorflow:Using a while_loop for converting RngReadAndSkip cause there is no registered converter for this op.\n",
      "WARNING:tensorflow:Using a while_loop for converting Bitcast cause there is no registered converter for this op.\n",
      "WARNING:tensorflow:Using a while_loop for converting Bitcast cause there is no registered converter for this op.\n",
      "WARNING:tensorflow:Using a while_loop for converting StatelessRandomUniformV2 cause there is no registered converter for this op.\n",
      "WARNING:tensorflow:Using a while_loop for converting RngReadAndSkip cause there is no registered converter for this op.\n",
      "WARNING:tensorflow:Using a while_loop for converting Bitcast cause there is no registered converter for this op.\n",
      "WARNING:tensorflow:Using a while_loop for converting Bitcast cause there is no registered converter for this op.\n",
      "WARNING:tensorflow:Using a while_loop for converting StatelessRandomUniformFullIntV2 cause there is no registered converter for this op.\n",
      "WARNING:tensorflow:Using a while_loop for converting StatelessRandomGetKeyCounter cause there is no registered converter for this op.\n",
      "WARNING:tensorflow:Using a while_loop for converting StatelessRandomUniformV2 cause there is no registered converter for this op.\n",
      "WARNING:tensorflow:Using a while_loop for converting RngReadAndSkip cause there is no registered converter for this op.\n",
      "WARNING:tensorflow:Using a while_loop for converting Bitcast cause there is no registered converter for this op.\n",
      "WARNING:tensorflow:Using a while_loop for converting Bitcast cause there is no registered converter for this op.\n",
      "WARNING:tensorflow:Using a while_loop for converting StatelessRandomUniformV2 cause there is no registered converter for this op.\n",
      "WARNING:tensorflow:Using a while_loop for converting ImageProjectiveTransformV3 cause there is no registered converter for this op.\n",
      "WARNING:tensorflow:Using a while_loop for converting RngReadAndSkip cause there is no registered converter for this op.\n",
      "WARNING:tensorflow:Using a while_loop for converting Bitcast cause there is no registered converter for this op.\n",
      "WARNING:tensorflow:Using a while_loop for converting Bitcast cause there is no registered converter for this op.\n",
      "WARNING:tensorflow:Using a while_loop for converting StatelessRandomUniformV2 cause there is no registered converter for this op.\n",
      "WARNING:tensorflow:Using a while_loop for converting ImageProjectiveTransformV3 cause there is no registered converter for this op.\n",
      "WARNING:tensorflow:Using a while_loop for converting RngReadAndSkip cause there is no registered converter for this op.\n",
      "WARNING:tensorflow:Using a while_loop for converting Bitcast cause there is no registered converter for this op.\n",
      "WARNING:tensorflow:Using a while_loop for converting Bitcast cause there is no registered converter for this op.\n",
      "WARNING:tensorflow:Using a while_loop for converting StatelessRandomUniformV2 cause there is no registered converter for this op.\n",
      "WARNING:tensorflow:Using a while_loop for converting RngReadAndSkip cause there is no registered converter for this op.\n",
      "WARNING:tensorflow:Using a while_loop for converting Bitcast cause there is no registered converter for this op.\n",
      "WARNING:tensorflow:Using a while_loop for converting Bitcast cause there is no registered converter for this op.\n",
      "WARNING:tensorflow:Using a while_loop for converting StatelessRandomUniformV2 cause there is no registered converter for this op.\n",
      "WARNING:tensorflow:Using a while_loop for converting ImageProjectiveTransformV3 cause there is no registered converter for this op.\n",
      "WARNING:tensorflow:Using a while_loop for converting RngReadAndSkip cause there is no registered converter for this op.\n",
      "WARNING:tensorflow:Using a while_loop for converting Bitcast cause there is no registered converter for this op.\n",
      "WARNING:tensorflow:Using a while_loop for converting Bitcast cause there is no registered converter for this op.\n",
      "WARNING:tensorflow:Using a while_loop for converting StatelessRandomUniformV2 cause there is no registered converter for this op.\n",
      "WARNING:tensorflow:Using a while_loop for converting RngReadAndSkip cause there is no registered converter for this op.\n",
      "WARNING:tensorflow:Using a while_loop for converting Bitcast cause there is no registered converter for this op.\n",
      "WARNING:tensorflow:Using a while_loop for converting Bitcast cause there is no registered converter for this op.\n",
      "WARNING:tensorflow:Using a while_loop for converting StatelessRandomUniformV2 cause there is no registered converter for this op.\n",
      "WARNING:tensorflow:Using a while_loop for converting RngReadAndSkip cause there is no registered converter for this op.\n",
      "WARNING:tensorflow:Using a while_loop for converting Bitcast cause there is no registered converter for this op.\n",
      "WARNING:tensorflow:Using a while_loop for converting Bitcast cause there is no registered converter for this op.\n",
      "WARNING:tensorflow:Using a while_loop for converting StatelessRandomUniformFullIntV2 cause there is no registered converter for this op.\n",
      "WARNING:tensorflow:Using a while_loop for converting StatelessRandomGetKeyCounter cause there is no registered converter for this op.\n",
      "WARNING:tensorflow:Using a while_loop for converting StatelessRandomUniformV2 cause there is no registered converter for this op.\n",
      "WARNING:tensorflow:Using a while_loop for converting RngReadAndSkip cause there is no registered converter for this op.\n",
      "WARNING:tensorflow:Using a while_loop for converting Bitcast cause there is no registered converter for this op.\n"
     ]
    },
    {
     "name": "stdout",
     "output_type": "stream",
     "text": [
      "WARNING:tensorflow:Using a while_loop for converting Bitcast cause there is no registered converter for this op.\n",
      "WARNING:tensorflow:Using a while_loop for converting StatelessRandomUniformV2 cause there is no registered converter for this op.\n",
      "WARNING:tensorflow:Using a while_loop for converting ImageProjectiveTransformV3 cause there is no registered converter for this op.\n",
      "WARNING:tensorflow:Using a while_loop for converting RngReadAndSkip cause there is no registered converter for this op.\n",
      "WARNING:tensorflow:Using a while_loop for converting Bitcast cause there is no registered converter for this op.\n",
      "WARNING:tensorflow:Using a while_loop for converting Bitcast cause there is no registered converter for this op.\n",
      "WARNING:tensorflow:Using a while_loop for converting StatelessRandomUniformV2 cause there is no registered converter for this op.\n",
      "WARNING:tensorflow:Using a while_loop for converting ImageProjectiveTransformV3 cause there is no registered converter for this op.\n",
      "WARNING:tensorflow:Using a while_loop for converting RngReadAndSkip cause there is no registered converter for this op.\n",
      "WARNING:tensorflow:Using a while_loop for converting Bitcast cause there is no registered converter for this op.\n",
      "WARNING:tensorflow:Using a while_loop for converting Bitcast cause there is no registered converter for this op.\n",
      "WARNING:tensorflow:Using a while_loop for converting StatelessRandomUniformV2 cause there is no registered converter for this op.\n",
      "WARNING:tensorflow:Using a while_loop for converting RngReadAndSkip cause there is no registered converter for this op.\n",
      "WARNING:tensorflow:Using a while_loop for converting Bitcast cause there is no registered converter for this op.\n",
      "WARNING:tensorflow:Using a while_loop for converting Bitcast cause there is no registered converter for this op.\n",
      "WARNING:tensorflow:Using a while_loop for converting StatelessRandomUniformV2 cause there is no registered converter for this op.\n",
      "WARNING:tensorflow:Using a while_loop for converting RngReadAndSkip cause there is no registered converter for this op.\n",
      "WARNING:tensorflow:Using a while_loop for converting Bitcast cause there is no registered converter for this op.\n",
      "WARNING:tensorflow:Using a while_loop for converting Bitcast cause there is no registered converter for this op.\n",
      "WARNING:tensorflow:Using a while_loop for converting StatelessRandomUniformFullIntV2 cause there is no registered converter for this op.\n",
      "WARNING:tensorflow:Using a while_loop for converting StatelessRandomGetKeyCounter cause there is no registered converter for this op.\n",
      "WARNING:tensorflow:Using a while_loop for converting StatelessRandomUniformV2 cause there is no registered converter for this op.\n",
      "WARNING:tensorflow:Using a while_loop for converting RngReadAndSkip cause there is no registered converter for this op.\n",
      "WARNING:tensorflow:Using a while_loop for converting Bitcast cause there is no registered converter for this op.\n",
      "WARNING:tensorflow:Using a while_loop for converting Bitcast cause there is no registered converter for this op.\n",
      "WARNING:tensorflow:Using a while_loop for converting StatelessRandomUniformV2 cause there is no registered converter for this op.\n",
      "WARNING:tensorflow:Using a while_loop for converting ImageProjectiveTransformV3 cause there is no registered converter for this op.\n",
      "WARNING:tensorflow:Using a while_loop for converting RngReadAndSkip cause there is no registered converter for this op.\n",
      "WARNING:tensorflow:Using a while_loop for converting Bitcast cause there is no registered converter for this op.\n",
      "WARNING:tensorflow:Using a while_loop for converting Bitcast cause there is no registered converter for this op.\n",
      "WARNING:tensorflow:Using a while_loop for converting StatelessRandomUniformV2 cause there is no registered converter for this op.\n",
      "WARNING:tensorflow:Using a while_loop for converting ImageProjectiveTransformV3 cause there is no registered converter for this op.\n",
      "WARNING:tensorflow:Using a while_loop for converting RngReadAndSkip cause there is no registered converter for this op.\n",
      "WARNING:tensorflow:Using a while_loop for converting Bitcast cause there is no registered converter for this op.\n",
      "WARNING:tensorflow:Using a while_loop for converting Bitcast cause there is no registered converter for this op.\n",
      "WARNING:tensorflow:Using a while_loop for converting StatelessRandomUniformV2 cause there is no registered converter for this op.\n",
      "WARNING:tensorflow:Using a while_loop for converting RngReadAndSkip cause there is no registered converter for this op.\n",
      "WARNING:tensorflow:Using a while_loop for converting Bitcast cause there is no registered converter for this op.\n",
      "WARNING:tensorflow:Using a while_loop for converting Bitcast cause there is no registered converter for this op.\n",
      "WARNING:tensorflow:Using a while_loop for converting StatelessRandomUniformV2 cause there is no registered converter for this op.\n",
      "WARNING:tensorflow:Using a while_loop for converting RngReadAndSkip cause there is no registered converter for this op.\n",
      "WARNING:tensorflow:Using a while_loop for converting Bitcast cause there is no registered converter for this op.\n",
      "WARNING:tensorflow:Using a while_loop for converting Bitcast cause there is no registered converter for this op.\n",
      "WARNING:tensorflow:Using a while_loop for converting StatelessRandomUniformFullIntV2 cause there is no registered converter for this op.\n",
      "WARNING:tensorflow:Using a while_loop for converting StatelessRandomGetKeyCounter cause there is no registered converter for this op.\n",
      "WARNING:tensorflow:Using a while_loop for converting StatelessRandomUniformV2 cause there is no registered converter for this op.\n",
      "WARNING:tensorflow:Using a while_loop for converting RngReadAndSkip cause there is no registered converter for this op.\n",
      "WARNING:tensorflow:Using a while_loop for converting Bitcast cause there is no registered converter for this op.\n",
      "WARNING:tensorflow:Using a while_loop for converting Bitcast cause there is no registered converter for this op.\n",
      "WARNING:tensorflow:Using a while_loop for converting StatelessRandomUniformV2 cause there is no registered converter for this op.\n",
      "WARNING:tensorflow:Using a while_loop for converting ImageProjectiveTransformV3 cause there is no registered converter for this op.\n",
      "WARNING:tensorflow:Using a while_loop for converting RngReadAndSkip cause there is no registered converter for this op.\n",
      "WARNING:tensorflow:Using a while_loop for converting Bitcast cause there is no registered converter for this op.\n",
      "WARNING:tensorflow:Using a while_loop for converting Bitcast cause there is no registered converter for this op.\n",
      "WARNING:tensorflow:Using a while_loop for converting StatelessRandomUniformV2 cause there is no registered converter for this op.\n",
      "WARNING:tensorflow:Using a while_loop for converting RngReadAndSkip cause there is no registered converter for this op.\n",
      "WARNING:tensorflow:Using a while_loop for converting Bitcast cause there is no registered converter for this op.\n",
      "WARNING:tensorflow:Using a while_loop for converting Bitcast cause there is no registered converter for this op.\n",
      "WARNING:tensorflow:Using a while_loop for converting StatelessRandomUniformV2 cause there is no registered converter for this op.\n",
      "WARNING:tensorflow:Using a while_loop for converting RngReadAndSkip cause there is no registered converter for this op.\n",
      "WARNING:tensorflow:Using a while_loop for converting Bitcast cause there is no registered converter for this op.\n",
      "WARNING:tensorflow:Using a while_loop for converting Bitcast cause there is no registered converter for this op.\n",
      "WARNING:tensorflow:Using a while_loop for converting StatelessRandomUniformFullIntV2 cause there is no registered converter for this op.\n",
      "WARNING:tensorflow:Using a while_loop for converting StatelessRandomGetKeyCounter cause there is no registered converter for this op.\n",
      "WARNING:tensorflow:Using a while_loop for converting StatelessRandomUniformV2 cause there is no registered converter for this op.\n",
      "WARNING:tensorflow:Using a while_loop for converting RngReadAndSkip cause there is no registered converter for this op.\n",
      "WARNING:tensorflow:Using a while_loop for converting Bitcast cause there is no registered converter for this op.\n",
      "WARNING:tensorflow:Using a while_loop for converting Bitcast cause there is no registered converter for this op.\n"
     ]
    },
    {
     "name": "stdout",
     "output_type": "stream",
     "text": [
      "WARNING:tensorflow:Using a while_loop for converting StatelessRandomUniformV2 cause there is no registered converter for this op.\n",
      "WARNING:tensorflow:Using a while_loop for converting ImageProjectiveTransformV3 cause there is no registered converter for this op.\n",
      "WARNING:tensorflow:Using a while_loop for converting RngReadAndSkip cause there is no registered converter for this op.\n",
      "WARNING:tensorflow:Using a while_loop for converting Bitcast cause there is no registered converter for this op.\n",
      "WARNING:tensorflow:Using a while_loop for converting Bitcast cause there is no registered converter for this op.\n",
      "WARNING:tensorflow:Using a while_loop for converting StatelessRandomUniformV2 cause there is no registered converter for this op.\n",
      "WARNING:tensorflow:Using a while_loop for converting RngReadAndSkip cause there is no registered converter for this op.\n",
      "WARNING:tensorflow:Using a while_loop for converting Bitcast cause there is no registered converter for this op.\n",
      "WARNING:tensorflow:Using a while_loop for converting Bitcast cause there is no registered converter for this op.\n",
      "WARNING:tensorflow:Using a while_loop for converting StatelessRandomUniformV2 cause there is no registered converter for this op.\n",
      "WARNING:tensorflow:Using a while_loop for converting RngReadAndSkip cause there is no registered converter for this op.\n",
      "WARNING:tensorflow:Using a while_loop for converting Bitcast cause there is no registered converter for this op.\n",
      "WARNING:tensorflow:Using a while_loop for converting Bitcast cause there is no registered converter for this op.\n",
      "WARNING:tensorflow:Using a while_loop for converting StatelessRandomUniformFullIntV2 cause there is no registered converter for this op.\n",
      "WARNING:tensorflow:Using a while_loop for converting StatelessRandomGetKeyCounter cause there is no registered converter for this op.\n",
      "WARNING:tensorflow:Using a while_loop for converting StatelessRandomUniformV2 cause there is no registered converter for this op.\n"
     ]
    },
    {
     "ename": "AttributeError",
     "evalue": "'Sequential' object has no attribute 'element_spec'",
     "output_type": "error",
     "traceback": [
      "\u001b[1;31m---------------------------------------------------------------------------\u001b[0m",
      "\u001b[1;31mAttributeError\u001b[0m                            Traceback (most recent call last)",
      "Cell \u001b[1;32mIn[27], line 37\u001b[0m\n\u001b[0;32m     31\u001b[0m augmented_rot2 \u001b[38;5;241m=\u001b[39m train\u001b[38;5;241m.\u001b[39mmap(\n\u001b[0;32m     32\u001b[0m   \u001b[38;5;28;01mlambda\u001b[39;00m x, y: (rot2(x, training\u001b[38;5;241m=\u001b[39m\u001b[38;5;28;01mTrue\u001b[39;00m), y))\n\u001b[0;32m     34\u001b[0m augmented_flip \u001b[38;5;241m=\u001b[39m train\u001b[38;5;241m.\u001b[39mmap(\n\u001b[0;32m     35\u001b[0m   \u001b[38;5;28;01mlambda\u001b[39;00m x, y: (flip(x, training\u001b[38;5;241m=\u001b[39m\u001b[38;5;28;01mTrue\u001b[39;00m), y))\n\u001b[1;32m---> 37\u001b[0m train \u001b[38;5;241m=\u001b[39m \u001b[43mtrain\u001b[49m\u001b[38;5;241;43m.\u001b[39;49m\u001b[43mconcatenate\u001b[49m\u001b[43m(\u001b[49m\u001b[43maugmented_flip\u001b[49m\u001b[43m)\u001b[49m\u001b[38;5;241;43m.\u001b[39;49m\u001b[43mconcatenate\u001b[49m\u001b[43m(\u001b[49m\u001b[43maugmented_rot\u001b[49m\u001b[43m)\u001b[49m\u001b[38;5;241;43m.\u001b[39;49m\u001b[43mconcatenate\u001b[49m\u001b[43m(\u001b[49m\u001b[43mrot2\u001b[49m\u001b[43m)\u001b[49m\n",
      "File \u001b[1;32m~\\AppData\\Local\\Packages\\PythonSoftwareFoundation.Python.3.10_qbz5n2kfra8p0\\LocalCache\\local-packages\\Python310\\site-packages\\tensorflow\\python\\data\\ops\\dataset_ops.py:1289\u001b[0m, in \u001b[0;36mDatasetV2.concatenate\u001b[1;34m(self, dataset, name)\u001b[0m\n\u001b[0;32m   1261\u001b[0m \u001b[38;5;28;01mdef\u001b[39;00m \u001b[38;5;21mconcatenate\u001b[39m(\u001b[38;5;28mself\u001b[39m, dataset, name\u001b[38;5;241m=\u001b[39m\u001b[38;5;28;01mNone\u001b[39;00m):\n\u001b[0;32m   1262\u001b[0m \u001b[38;5;250m  \u001b[39m\u001b[38;5;124;03m\"\"\"Creates a `Dataset` by concatenating the given dataset with this dataset.\u001b[39;00m\n\u001b[0;32m   1263\u001b[0m \n\u001b[0;32m   1264\u001b[0m \u001b[38;5;124;03m  >>> a = tf.data.Dataset.range(1, 4)  # ==> [ 1, 2, 3 ]\u001b[39;00m\n\u001b[1;32m   (...)\u001b[0m\n\u001b[0;32m   1287\u001b[0m \u001b[38;5;124;03m    A new `Dataset` with the transformation applied as described above.\u001b[39;00m\n\u001b[0;32m   1288\u001b[0m \u001b[38;5;124;03m  \"\"\"\u001b[39;00m\n\u001b[1;32m-> 1289\u001b[0m   \u001b[38;5;28;01mreturn\u001b[39;00m \u001b[43mConcatenateDataset\u001b[49m\u001b[43m(\u001b[49m\u001b[38;5;28;43mself\u001b[39;49m\u001b[43m,\u001b[49m\u001b[43m \u001b[49m\u001b[43mdataset\u001b[49m\u001b[43m,\u001b[49m\u001b[43m \u001b[49m\u001b[43mname\u001b[49m\u001b[38;5;241;43m=\u001b[39;49m\u001b[43mname\u001b[49m\u001b[43m)\u001b[49m\n",
      "File \u001b[1;32m~\\AppData\\Local\\Packages\\PythonSoftwareFoundation.Python.3.10_qbz5n2kfra8p0\\LocalCache\\local-packages\\Python310\\site-packages\\tensorflow\\python\\data\\ops\\dataset_ops.py:4986\u001b[0m, in \u001b[0;36mConcatenateDataset.__init__\u001b[1;34m(self, input_dataset, dataset_to_concatenate, name)\u001b[0m\n\u001b[0;32m   4981\u001b[0m   \u001b[38;5;28;01mreturn\u001b[39;00m result\n\u001b[0;32m   4983\u001b[0m \u001b[38;5;28;01mtry\u001b[39;00m:\n\u001b[0;32m   4984\u001b[0m   \u001b[38;5;28mself\u001b[39m\u001b[38;5;241m.\u001b[39m_structure \u001b[38;5;241m=\u001b[39m tf_nest\u001b[38;5;241m.\u001b[39mmap_structure(\n\u001b[0;32m   4985\u001b[0m       common_supertype, input_dataset\u001b[38;5;241m.\u001b[39melement_spec,\n\u001b[1;32m-> 4986\u001b[0m       \u001b[43mdataset_to_concatenate\u001b[49m\u001b[38;5;241;43m.\u001b[39;49m\u001b[43melement_spec\u001b[49m)\n\u001b[0;32m   4987\u001b[0m \u001b[38;5;28;01mexcept\u001b[39;00m (\u001b[38;5;167;01mTypeError\u001b[39;00m, \u001b[38;5;167;01mValueError\u001b[39;00m) \u001b[38;5;28;01mas\u001b[39;00m e:\n\u001b[0;32m   4988\u001b[0m   \u001b[38;5;28;01mraise\u001b[39;00m \u001b[38;5;167;01mTypeError\u001b[39;00m(\n\u001b[0;32m   4989\u001b[0m       \u001b[38;5;124mf\u001b[39m\u001b[38;5;124m\"\u001b[39m\u001b[38;5;124mIncompatible dataset elements:\u001b[39m\u001b[38;5;130;01m\\n\u001b[39;00m\u001b[38;5;124m\"\u001b[39m\n\u001b[0;32m   4990\u001b[0m       \u001b[38;5;124mf\u001b[39m\u001b[38;5;124m\"\u001b[39m\u001b[38;5;124m  \u001b[39m\u001b[38;5;132;01m{\u001b[39;00minput_dataset\u001b[38;5;241m.\u001b[39melement_spec\u001b[38;5;132;01m}\u001b[39;00m\u001b[38;5;124m vs. \u001b[39m\u001b[38;5;124m\"\u001b[39m\n\u001b[0;32m   4991\u001b[0m       \u001b[38;5;124mf\u001b[39m\u001b[38;5;124m\"\u001b[39m\u001b[38;5;124m  \u001b[39m\u001b[38;5;132;01m{\u001b[39;00mdataset_to_concatenate\u001b[38;5;241m.\u001b[39melement_spec\u001b[38;5;132;01m}\u001b[39;00m\u001b[38;5;124m\"\u001b[39m) \u001b[38;5;28;01mfrom\u001b[39;00m \u001b[38;5;21;01me\u001b[39;00m\n",
      "\u001b[1;31mAttributeError\u001b[0m: 'Sequential' object has no attribute 'element_spec'"
     ]
    }
   ],
   "source": [
    "flip = Sequential(\n",
    "    [\n",
    "        layers.RandomRotation(factor=0.15),\n",
    "        layers.RandomTranslation(height_factor=0.1, width_factor=0.1),\n",
    "        layers.RandomContrast(factor=0.1),\n",
    "        layers.RandomFlip(\"horizontal\"),\n",
    "    ]\n",
    ")\n",
    "rot = Sequential(\n",
    "    [\n",
    "        layers.RandomRotation(0.5),\n",
    "        layers.RandomRotation(factor=0.15),\n",
    "        layers.RandomZoom(0.2, 0.3),\n",
    "        layers.RandomTranslation(height_factor=0.1, width_factor=0.1),\n",
    "        layers.RandomContrast(factor=0.1),\n",
    "    ]\n",
    ")\n",
    "\n",
    "rot2 = Sequential(\n",
    "    [\n",
    "        layers.RandomRotation(0.5),\n",
    "        layers.RandomZoom((-0.2, -0.3)),\n",
    "        layers.RandomTranslation(height_factor=0.1, width_factor=0.1),\n",
    "        layers.RandomContrast(factor=0.8),\n",
    "    ]\n",
    ")\n",
    "\n",
    "augmented_rot = train.map(\n",
    "  lambda x, y: (rot(x, training=True), y))\n",
    "\n",
    "augmented_rot2 = train.map(\n",
    "  lambda x, y: (rot2(x, training=True), y))\n",
    "\n",
    "augmented_flip = train.map(\n",
    "  lambda x, y: (flip(x, training=True), y))\n",
    "\n",
    "train = train.concatenate(augmented_flip).concatenate(augmented_rot).concatenate(rot2)\n"
   ]
  },
  {
   "cell_type": "code",
   "execution_count": 28,
   "metadata": {},
   "outputs": [],
   "source": [
    "opt = tf.keras.optimizers.Adam(learning_rate=0.0001)\n",
    "\n",
    "model = Sequential()\n",
    "model.add(Rescaling(1./255))\n",
    "\n",
    "model.add(Conv2D(32, (3, 3), activation='relu', padding='same'))\n",
    "model.add(BatchNormalization())\n",
    "\n",
    "model.add(Conv2D(32, (3, 3), activation='relu', padding='same'))\n",
    "model.add(BatchNormalization())\n",
    "model.add(MaxPooling2D(pool_size=(2, 2)))\n",
    "model.add(Dropout(0.15))\n",
    "\n",
    "\n",
    "model.add(Conv2D(64, (3, 3), activation='relu', padding='same'))\n",
    "model.add(BatchNormalization())\n",
    "\n",
    "model.add(Conv2D(64, (3, 3), activation='relu', padding='same'))\n",
    "model.add(BatchNormalization())\n",
    "model.add(MaxPooling2D(pool_size=(2, 2)))\n",
    "model.add(Dropout(0.15))\n",
    "\n",
    "model.add(Conv2D(128, (3, 3), activation='relu', padding='same'))\n",
    "model.add(BatchNormalization())\n",
    "\n",
    "\n",
    "model.add(Conv2D(128, (3, 3), activation='relu', padding='same'))\n",
    "model.add(BatchNormalization())\n",
    "model.add(MaxPooling2D(pool_size=(2, 2)))\n",
    "model.add(Dropout(0.15))\n",
    "\n",
    "\n",
    "model.add(Flatten())\n",
    "\n",
    "model.add(Dense(512, activation='relu'))\n",
    "model.add(BatchNormalization())\n",
    "model.add(Dropout(0.5))\n",
    "\n",
    "model.add(Dense(128, activation='relu'))\n",
    "model.add(BatchNormalization())\n",
    "model.add(Dropout(0.5))\n",
    "model.add(Dense(5, activation='softmax'))"
   ]
  },
  {
   "cell_type": "code",
   "execution_count": 29,
   "metadata": {},
   "outputs": [],
   "source": [
    "model.compile(loss='categorical_crossentropy', optimizer=opt, metrics=['accuracy', 'Recall'])"
   ]
  },
  {
   "cell_type": "code",
   "execution_count": 30,
   "metadata": {},
   "outputs": [],
   "source": [
    "mcp_save = ModelCheckpoint('.mdl_wts.hdf5', save_best_only=True, monitor='val_loss', mode='min')\n",
    "earlyStopping = EarlyStopping(monitor='val_loss', patience=10, verbose=0, mode='min')\n",
    "reduce_lr_loss = ReduceLROnPlateau(monitor='val_loss', factor=0.1, patience=7, verbose=1, min_delta=1e-4, mode='min')"
   ]
  },
  {
   "cell_type": "code",
   "execution_count": 31,
   "metadata": {},
   "outputs": [
    {
     "name": "stdout",
     "output_type": "stream",
     "text": [
      "Epoch 1/100\n",
      "33/33 [==============================] - 9s 173ms/step - loss: 2.7615 - accuracy: 0.2150 - recall: 0.1456 - val_loss: 1.5542 - val_accuracy: 0.3867 - val_recall: 0.0000e+00\n",
      "Epoch 2/100\n",
      "33/33 [==============================] - 6s 169ms/step - loss: 2.7416 - accuracy: 0.2257 - recall: 0.1678 - val_loss: 1.5675 - val_accuracy: 0.1794 - val_recall: 0.0000e+00\n",
      "Epoch 3/100\n",
      "33/33 [==============================] - 6s 170ms/step - loss: 2.6165 - accuracy: 0.2411 - recall: 0.1823 - val_loss: 1.5567 - val_accuracy: 0.1794 - val_recall: 0.0000e+00\n",
      "Epoch 4/100\n",
      "33/33 [==============================] - 6s 171ms/step - loss: 2.5718 - accuracy: 0.2257 - recall: 0.1572 - val_loss: 1.5895 - val_accuracy: 0.1765 - val_recall: 0.0000e+00\n",
      "Epoch 5/100\n",
      "33/33 [==============================] - 6s 179ms/step - loss: 2.6371 - accuracy: 0.2295 - recall: 0.1716 - val_loss: 1.5989 - val_accuracy: 0.1871 - val_recall: 0.0000e+00\n",
      "Epoch 6/100\n",
      "33/33 [==============================] - 6s 168ms/step - loss: 2.4956 - accuracy: 0.2449 - recall: 0.1803 - val_loss: 1.5568 - val_accuracy: 0.3202 - val_recall: 0.0000e+00\n",
      "Epoch 7/100\n",
      "33/33 [==============================] - 6s 170ms/step - loss: 2.4461 - accuracy: 0.2392 - recall: 0.1784 - val_loss: 1.6707 - val_accuracy: 0.1929 - val_recall: 0.0019\n",
      "Epoch 8/100\n",
      "33/33 [==============================] - 6s 177ms/step - loss: 2.4431 - accuracy: 0.2305 - recall: 0.1581 - val_loss: 1.7218 - val_accuracy: 0.1880 - val_recall: 0.0125\n",
      "Epoch 9/100\n",
      "33/33 [==============================] - 6s 192ms/step - loss: 2.3654 - accuracy: 0.2469 - recall: 0.1813 - val_loss: 1.9936 - val_accuracy: 0.1649 - val_recall: 0.0289\n",
      "Epoch 10/100\n",
      "33/33 [==============================] - 6s 180ms/step - loss: 2.3326 - accuracy: 0.2546 - recall: 0.1842 - val_loss: 1.9650 - val_accuracy: 0.1851 - val_recall: 0.0675\n",
      "Epoch 11/100\n",
      "33/33 [==============================] - 6s 174ms/step - loss: 2.3690 - accuracy: 0.2527 - recall: 0.1726 - val_loss: 1.9216 - val_accuracy: 0.1938 - val_recall: 0.0424\n",
      "Epoch 12/100\n",
      "33/33 [==============================] - 6s 177ms/step - loss: 2.2827 - accuracy: 0.2806 - recall: 0.1938 - val_loss: 1.6908 - val_accuracy: 0.3259 - val_recall: 0.0829\n",
      "Epoch 13/100\n",
      "33/33 [==============================] - 6s 175ms/step - loss: 2.2934 - accuracy: 0.2613 - recall: 0.1958 - val_loss: 1.7999 - val_accuracy: 0.2488 - val_recall: 0.1022\n",
      "Epoch 14/100\n",
      "33/33 [==============================] - 6s 175ms/step - loss: 2.2414 - accuracy: 0.2777 - recall: 0.1842 - val_loss: 2.0335 - val_accuracy: 0.2083 - val_recall: 0.1148\n",
      "Epoch 15/100\n",
      "33/33 [==============================] - 6s 171ms/step - loss: 2.1323 - accuracy: 0.3067 - recall: 0.2218 - val_loss: 2.0864 - val_accuracy: 0.1900 - val_recall: 0.1244\n",
      "Epoch 16/100\n",
      "33/33 [==============================] - 6s 176ms/step - loss: 2.1375 - accuracy: 0.2874 - recall: 0.2044 - val_loss: 1.9618 - val_accuracy: 0.2179 - val_recall: 0.1321\n",
      "Epoch 17/100\n",
      "33/33 [==============================] - 6s 173ms/step - loss: 2.2363 - accuracy: 0.2662 - recall: 0.1765 - val_loss: 1.9183 - val_accuracy: 0.2044 - val_recall: 0.0974\n",
      "Epoch 18/100\n",
      "33/33 [==============================] - 6s 171ms/step - loss: 2.1249 - accuracy: 0.2845 - recall: 0.1861 - val_loss: 1.8838 - val_accuracy: 0.2054 - val_recall: 0.0964\n",
      "Epoch 19/100\n",
      "33/33 [==============================] - 6s 186ms/step - loss: 2.0399 - accuracy: 0.3182 - recall: 0.2247 - val_loss: 1.7818 - val_accuracy: 0.2449 - val_recall: 0.1013\n",
      "Epoch 20/100\n",
      "33/33 [==============================] - 6s 183ms/step - loss: 1.9556 - accuracy: 0.3221 - recall: 0.2189 - val_loss: 1.6205 - val_accuracy: 0.2835 - val_recall: 0.0993\n",
      "Epoch 21/100\n",
      "33/33 [==============================] - 6s 184ms/step - loss: 2.0058 - accuracy: 0.3202 - recall: 0.2170 - val_loss: 1.6181 - val_accuracy: 0.2951 - val_recall: 0.1032\n",
      "Epoch 22/100\n",
      "33/33 [==============================] - 6s 173ms/step - loss: 1.9951 - accuracy: 0.3230 - recall: 0.2314 - val_loss: 1.4861 - val_accuracy: 0.3684 - val_recall: 0.1051\n",
      "Epoch 23/100\n",
      "33/33 [==============================] - 6s 179ms/step - loss: 2.0251 - accuracy: 0.3086 - recall: 0.2131 - val_loss: 1.5179 - val_accuracy: 0.3635 - val_recall: 0.0829\n",
      "Epoch 24/100\n",
      "33/33 [==============================] - 6s 169ms/step - loss: 1.9881 - accuracy: 0.2932 - recall: 0.2093 - val_loss: 1.4609 - val_accuracy: 0.4118 - val_recall: 0.1176\n",
      "Epoch 25/100\n",
      "33/33 [==============================] - 6s 177ms/step - loss: 1.9590 - accuracy: 0.2960 - recall: 0.2247 - val_loss: 1.3457 - val_accuracy: 0.4773 - val_recall: 0.1610\n",
      "Epoch 26/100\n",
      "33/33 [==============================] - 6s 176ms/step - loss: 1.9639 - accuracy: 0.3259 - recall: 0.2324 - val_loss: 1.3243 - val_accuracy: 0.4870 - val_recall: 0.2131\n",
      "Epoch 27/100\n",
      "33/33 [==============================] - 6s 176ms/step - loss: 1.8565 - accuracy: 0.3500 - recall: 0.2527 - val_loss: 1.2964 - val_accuracy: 0.4928 - val_recall: 0.2584\n",
      "Epoch 28/100\n",
      "33/33 [==============================] - 6s 176ms/step - loss: 1.8878 - accuracy: 0.3443 - recall: 0.2401 - val_loss: 1.2578 - val_accuracy: 0.5024 - val_recall: 0.2835\n",
      "Epoch 29/100\n",
      "33/33 [==============================] - 6s 181ms/step - loss: 1.9382 - accuracy: 0.3279 - recall: 0.2295 - val_loss: 1.2641 - val_accuracy: 0.5014 - val_recall: 0.2797\n",
      "Epoch 30/100\n",
      "33/33 [==============================] - 6s 173ms/step - loss: 1.8632 - accuracy: 0.3346 - recall: 0.2382 - val_loss: 1.2288 - val_accuracy: 0.5082 - val_recall: 0.2806\n",
      "Epoch 31/100\n",
      "33/33 [==============================] - 6s 173ms/step - loss: 1.8936 - accuracy: 0.3385 - recall: 0.2343 - val_loss: 1.2417 - val_accuracy: 0.5207 - val_recall: 0.2536\n",
      "Epoch 32/100\n",
      "33/33 [==============================] - 6s 169ms/step - loss: 1.7964 - accuracy: 0.3327 - recall: 0.2112 - val_loss: 1.2189 - val_accuracy: 0.5256 - val_recall: 0.3047\n",
      "Epoch 33/100\n",
      "33/33 [==============================] - 6s 180ms/step - loss: 1.8064 - accuracy: 0.3664 - recall: 0.2604 - val_loss: 1.1800 - val_accuracy: 0.5497 - val_recall: 0.3182\n",
      "Epoch 34/100\n",
      "33/33 [==============================] - 6s 179ms/step - loss: 1.7899 - accuracy: 0.3549 - recall: 0.2343 - val_loss: 1.1730 - val_accuracy: 0.5448 - val_recall: 0.3240\n",
      "Epoch 35/100\n",
      "33/33 [==============================] - 6s 170ms/step - loss: 1.7777 - accuracy: 0.3809 - recall: 0.2565 - val_loss: 1.1654 - val_accuracy: 0.5448 - val_recall: 0.3385\n",
      "Epoch 36/100\n",
      "33/33 [==============================] - 6s 185ms/step - loss: 1.7930 - accuracy: 0.3674 - recall: 0.2623 - val_loss: 1.1608 - val_accuracy: 0.5419 - val_recall: 0.3288\n",
      "Epoch 37/100\n",
      "33/33 [==============================] - 6s 184ms/step - loss: 1.7775 - accuracy: 0.3655 - recall: 0.2623 - val_loss: 1.1480 - val_accuracy: 0.5535 - val_recall: 0.3443\n",
      "Epoch 38/100\n",
      "33/33 [==============================] - 6s 196ms/step - loss: 1.7480 - accuracy: 0.3713 - recall: 0.2575 - val_loss: 1.1667 - val_accuracy: 0.5516 - val_recall: 0.3742\n",
      "Epoch 39/100\n",
      "33/33 [==============================] - 6s 182ms/step - loss: 1.7504 - accuracy: 0.3770 - recall: 0.2729 - val_loss: 1.1809 - val_accuracy: 0.5458 - val_recall: 0.3472\n",
      "Epoch 40/100\n",
      "33/33 [==============================] - 6s 188ms/step - loss: 1.6357 - accuracy: 0.4002 - recall: 0.2835 - val_loss: 1.1686 - val_accuracy: 0.5574 - val_recall: 0.3346\n",
      "Epoch 41/100\n",
      "33/33 [==============================] - 6s 188ms/step - loss: 1.7648 - accuracy: 0.3510 - recall: 0.2440 - val_loss: 1.1531 - val_accuracy: 0.5728 - val_recall: 0.3221\n",
      "Epoch 42/100\n",
      "33/33 [==============================] - 6s 189ms/step - loss: 1.7112 - accuracy: 0.3722 - recall: 0.2748 - val_loss: 1.1471 - val_accuracy: 0.5786 - val_recall: 0.3047\n",
      "Epoch 43/100\n",
      "33/33 [==============================] - 6s 187ms/step - loss: 1.6220 - accuracy: 0.4060 - recall: 0.2874 - val_loss: 1.1181 - val_accuracy: 0.5853 - val_recall: 0.3259\n",
      "Epoch 44/100\n",
      "33/33 [==============================] - 6s 186ms/step - loss: 1.7017 - accuracy: 0.3703 - recall: 0.2642 - val_loss: 1.1348 - val_accuracy: 0.5699 - val_recall: 0.3105\n",
      "Epoch 45/100\n",
      "33/33 [==============================] - 6s 189ms/step - loss: 1.6492 - accuracy: 0.3983 - recall: 0.2816 - val_loss: 1.1285 - val_accuracy: 0.5709 - val_recall: 0.3067\n"
     ]
    },
    {
     "name": "stdout",
     "output_type": "stream",
     "text": [
      "Epoch 46/100\n",
      "33/33 [==============================] - 6s 190ms/step - loss: 1.6766 - accuracy: 0.3848 - recall: 0.2671 - val_loss: 1.1537 - val_accuracy: 0.5709 - val_recall: 0.2729\n",
      "Epoch 47/100\n",
      "33/33 [==============================] - 6s 191ms/step - loss: 1.6098 - accuracy: 0.4050 - recall: 0.2758 - val_loss: 1.1595 - val_accuracy: 0.5699 - val_recall: 0.2392\n",
      "Epoch 48/100\n",
      "33/33 [==============================] - 6s 188ms/step - loss: 1.6756 - accuracy: 0.3944 - recall: 0.2690 - val_loss: 1.1533 - val_accuracy: 0.5786 - val_recall: 0.2372\n",
      "Epoch 49/100\n",
      "33/33 [==============================] - 6s 183ms/step - loss: 1.6434 - accuracy: 0.4002 - recall: 0.2845 - val_loss: 1.1137 - val_accuracy: 0.5892 - val_recall: 0.2739\n",
      "Epoch 50/100\n",
      "33/33 [==============================] - 6s 185ms/step - loss: 1.6385 - accuracy: 0.3963 - recall: 0.2797 - val_loss: 1.0977 - val_accuracy: 0.6017 - val_recall: 0.2989\n",
      "Epoch 51/100\n",
      "33/33 [==============================] - 6s 185ms/step - loss: 1.6694 - accuracy: 0.3799 - recall: 0.2729 - val_loss: 1.0796 - val_accuracy: 0.5863 - val_recall: 0.3491\n",
      "Epoch 52/100\n",
      "33/33 [==============================] - 6s 185ms/step - loss: 1.5818 - accuracy: 0.4253 - recall: 0.2989 - val_loss: 1.0770 - val_accuracy: 0.6027 - val_recall: 0.3240\n",
      "Epoch 53/100\n",
      "33/33 [==============================] - 6s 182ms/step - loss: 1.5522 - accuracy: 0.4339 - recall: 0.3047 - val_loss: 1.0715 - val_accuracy: 0.6143 - val_recall: 0.3105\n",
      "Epoch 54/100\n",
      "33/33 [==============================] - 6s 187ms/step - loss: 1.5414 - accuracy: 0.4050 - recall: 0.2845 - val_loss: 1.0377 - val_accuracy: 0.6239 - val_recall: 0.3230\n",
      "Epoch 55/100\n",
      "33/33 [==============================] - 6s 190ms/step - loss: 1.5239 - accuracy: 0.4214 - recall: 0.2999 - val_loss: 1.0186 - val_accuracy: 0.6181 - val_recall: 0.3684\n",
      "Epoch 56/100\n",
      "33/33 [==============================] - 6s 182ms/step - loss: 1.5614 - accuracy: 0.4253 - recall: 0.3153 - val_loss: 1.0100 - val_accuracy: 0.6606 - val_recall: 0.3452\n",
      "Epoch 57/100\n",
      "33/33 [==============================] - 6s 187ms/step - loss: 1.5153 - accuracy: 0.4436 - recall: 0.3163 - val_loss: 1.0179 - val_accuracy: 0.6152 - val_recall: 0.3857\n",
      "Epoch 58/100\n",
      "33/33 [==============================] - 6s 187ms/step - loss: 1.4735 - accuracy: 0.4523 - recall: 0.3308 - val_loss: 1.0339 - val_accuracy: 0.6046 - val_recall: 0.3983\n",
      "Epoch 59/100\n",
      "33/33 [==============================] - 6s 183ms/step - loss: 1.5337 - accuracy: 0.4436 - recall: 0.3250 - val_loss: 1.0003 - val_accuracy: 0.6374 - val_recall: 0.3809\n",
      "Epoch 60/100\n",
      "33/33 [==============================] - 6s 177ms/step - loss: 1.4867 - accuracy: 0.4494 - recall: 0.3279 - val_loss: 0.9843 - val_accuracy: 0.6924 - val_recall: 0.3587\n",
      "Epoch 61/100\n",
      "33/33 [==============================] - 6s 183ms/step - loss: 1.4932 - accuracy: 0.4474 - recall: 0.3115 - val_loss: 0.9683 - val_accuracy: 0.6750 - val_recall: 0.3838\n",
      "Epoch 62/100\n",
      "33/33 [==============================] - 6s 183ms/step - loss: 1.4841 - accuracy: 0.4368 - recall: 0.3230 - val_loss: 0.9875 - val_accuracy: 0.6307 - val_recall: 0.4108\n",
      "Epoch 63/100\n",
      "33/33 [==============================] - 6s 185ms/step - loss: 1.4619 - accuracy: 0.4629 - recall: 0.3404 - val_loss: 0.9894 - val_accuracy: 0.6046 - val_recall: 0.4378\n",
      "Epoch 64/100\n",
      "33/33 [==============================] - 6s 183ms/step - loss: 1.4757 - accuracy: 0.4455 - recall: 0.3173 - val_loss: 0.9905 - val_accuracy: 0.6143 - val_recall: 0.4320\n",
      "Epoch 65/100\n",
      "33/33 [==============================] - 6s 186ms/step - loss: 1.4393 - accuracy: 0.4638 - recall: 0.3404 - val_loss: 0.9887 - val_accuracy: 0.6152 - val_recall: 0.4542\n",
      "Epoch 66/100\n",
      "33/33 [==============================] - 6s 186ms/step - loss: 1.4303 - accuracy: 0.4542 - recall: 0.3356 - val_loss: 0.9502 - val_accuracy: 0.6336 - val_recall: 0.4465\n",
      "Epoch 67/100\n",
      "33/33 [==============================] - 6s 186ms/step - loss: 1.3856 - accuracy: 0.4995 - recall: 0.3443 - val_loss: 0.9547 - val_accuracy: 0.6500 - val_recall: 0.4446\n",
      "Epoch 68/100\n",
      "33/33 [==============================] - 6s 189ms/step - loss: 1.4673 - accuracy: 0.4484 - recall: 0.3394 - val_loss: 0.9563 - val_accuracy: 0.6393 - val_recall: 0.4600\n",
      "Epoch 69/100\n",
      "33/33 [==============================] - 6s 188ms/step - loss: 1.3878 - accuracy: 0.4957 - recall: 0.3751 - val_loss: 0.9152 - val_accuracy: 0.6847 - val_recall: 0.4455\n",
      "Epoch 70/100\n",
      "33/33 [==============================] - 6s 178ms/step - loss: 1.4117 - accuracy: 0.4687 - recall: 0.3452 - val_loss: 0.9099 - val_accuracy: 0.7136 - val_recall: 0.4118\n",
      "Epoch 71/100\n",
      "33/33 [==============================] - 6s 194ms/step - loss: 1.3798 - accuracy: 0.4899 - recall: 0.3645 - val_loss: 0.9037 - val_accuracy: 0.6991 - val_recall: 0.4581\n",
      "Epoch 72/100\n",
      "33/33 [==============================] - 6s 195ms/step - loss: 1.3891 - accuracy: 0.4812 - recall: 0.3655 - val_loss: 0.8912 - val_accuracy: 0.6924 - val_recall: 0.4667\n",
      "Epoch 73/100\n",
      "33/33 [==============================] - 6s 186ms/step - loss: 1.3487 - accuracy: 0.4860 - recall: 0.3655 - val_loss: 0.9118 - val_accuracy: 0.6770 - val_recall: 0.4716\n",
      "Epoch 74/100\n",
      "33/33 [==============================] - 6s 187ms/step - loss: 1.3810 - accuracy: 0.4773 - recall: 0.3558 - val_loss: 0.9032 - val_accuracy: 0.6885 - val_recall: 0.4484\n",
      "Epoch 75/100\n",
      "33/33 [==============================] - 6s 186ms/step - loss: 1.3718 - accuracy: 0.4793 - recall: 0.3819 - val_loss: 0.8838 - val_accuracy: 0.7001 - val_recall: 0.4841\n",
      "Epoch 76/100\n",
      "33/33 [==============================] - 6s 192ms/step - loss: 1.3595 - accuracy: 0.4908 - recall: 0.3713 - val_loss: 0.8745 - val_accuracy: 0.7107 - val_recall: 0.4754\n",
      "Epoch 77/100\n",
      "33/33 [==============================] - 6s 182ms/step - loss: 1.3120 - accuracy: 0.5034 - recall: 0.3751 - val_loss: 0.8629 - val_accuracy: 0.7184 - val_recall: 0.4860\n",
      "Epoch 78/100\n",
      "33/33 [==============================] - 6s 187ms/step - loss: 1.3313 - accuracy: 0.4957 - recall: 0.3703 - val_loss: 0.8589 - val_accuracy: 0.7126 - val_recall: 0.4976\n",
      "Epoch 79/100\n",
      "33/33 [==============================] - 6s 181ms/step - loss: 1.3010 - accuracy: 0.5034 - recall: 0.3896 - val_loss: 0.8428 - val_accuracy: 0.7473 - val_recall: 0.4754\n",
      "Epoch 80/100\n",
      "33/33 [==============================] - 6s 190ms/step - loss: 1.2731 - accuracy: 0.5140 - recall: 0.3896 - val_loss: 0.8549 - val_accuracy: 0.6721 - val_recall: 0.5207\n",
      "Epoch 81/100\n",
      "33/33 [==============================] - 6s 192ms/step - loss: 1.2069 - accuracy: 0.5294 - recall: 0.4079 - val_loss: 0.8245 - val_accuracy: 0.7020 - val_recall: 0.5458\n",
      "Epoch 82/100\n",
      "33/33 [==============================] - 6s 187ms/step - loss: 1.2481 - accuracy: 0.5159 - recall: 0.4098 - val_loss: 0.7898 - val_accuracy: 0.7753 - val_recall: 0.5140\n",
      "Epoch 83/100\n",
      "33/33 [==============================] - 6s 185ms/step - loss: 1.2683 - accuracy: 0.5159 - recall: 0.4166 - val_loss: 0.7943 - val_accuracy: 0.7232 - val_recall: 0.5458\n",
      "Epoch 84/100\n",
      "33/33 [==============================] - 6s 188ms/step - loss: 1.2270 - accuracy: 0.5227 - recall: 0.3877 - val_loss: 0.7962 - val_accuracy: 0.7184 - val_recall: 0.5391\n",
      "Epoch 85/100\n",
      "33/33 [==============================] - 6s 193ms/step - loss: 1.2448 - accuracy: 0.5082 - recall: 0.3905 - val_loss: 0.7918 - val_accuracy: 0.7213 - val_recall: 0.5506\n",
      "Epoch 86/100\n",
      "33/33 [==============================] - 6s 186ms/step - loss: 1.2740 - accuracy: 0.5256 - recall: 0.3963 - val_loss: 0.7648 - val_accuracy: 0.7580 - val_recall: 0.5603\n",
      "Epoch 87/100\n",
      "33/33 [==============================] - 6s 186ms/step - loss: 1.2338 - accuracy: 0.5410 - recall: 0.4224 - val_loss: 0.7477 - val_accuracy: 0.7502 - val_recall: 0.5767\n",
      "Epoch 88/100\n",
      "33/33 [==============================] - 6s 189ms/step - loss: 1.1822 - accuracy: 0.5477 - recall: 0.4417 - val_loss: 0.7289 - val_accuracy: 0.8091 - val_recall: 0.5670\n",
      "Epoch 89/100\n",
      "33/33 [==============================] - 6s 185ms/step - loss: 1.2114 - accuracy: 0.5371 - recall: 0.4089 - val_loss: 0.7152 - val_accuracy: 0.8235 - val_recall: 0.5661\n",
      "Epoch 90/100\n",
      "33/33 [==============================] - 6s 183ms/step - loss: 1.1730 - accuracy: 0.5738 - recall: 0.4455 - val_loss: 0.6909 - val_accuracy: 0.7946 - val_recall: 0.5998\n",
      "Epoch 91/100\n"
     ]
    },
    {
     "name": "stdout",
     "output_type": "stream",
     "text": [
      "33/33 [==============================] - 6s 190ms/step - loss: 1.1918 - accuracy: 0.5545 - recall: 0.4446 - val_loss: 0.7020 - val_accuracy: 0.8149 - val_recall: 0.5921\n",
      "Epoch 92/100\n",
      "33/33 [==============================] - 6s 190ms/step - loss: 1.1863 - accuracy: 0.5583 - recall: 0.4446 - val_loss: 0.6977 - val_accuracy: 0.7753 - val_recall: 0.6152\n",
      "Epoch 93/100\n",
      "33/33 [==============================] - 6s 191ms/step - loss: 1.1648 - accuracy: 0.5574 - recall: 0.4465 - val_loss: 0.7105 - val_accuracy: 0.7570 - val_recall: 0.6210\n",
      "Epoch 94/100\n",
      "33/33 [==============================] - 6s 194ms/step - loss: 1.1537 - accuracy: 0.5526 - recall: 0.4484 - val_loss: 0.6676 - val_accuracy: 0.8100 - val_recall: 0.6336\n",
      "Epoch 95/100\n",
      "33/33 [==============================] - 6s 192ms/step - loss: 1.1646 - accuracy: 0.5641 - recall: 0.4455 - val_loss: 0.6515 - val_accuracy: 0.8332 - val_recall: 0.6365\n",
      "Epoch 96/100\n",
      "33/33 [==============================] - 6s 189ms/step - loss: 1.1098 - accuracy: 0.5583 - recall: 0.4397 - val_loss: 0.6355 - val_accuracy: 0.8476 - val_recall: 0.6432\n",
      "Epoch 97/100\n",
      "33/33 [==============================] - 6s 186ms/step - loss: 1.1018 - accuracy: 0.5815 - recall: 0.4600 - val_loss: 0.6187 - val_accuracy: 0.8679 - val_recall: 0.6557\n",
      "Epoch 98/100\n",
      "33/33 [==============================] - 6s 189ms/step - loss: 1.1025 - accuracy: 0.5651 - recall: 0.4513 - val_loss: 0.6078 - val_accuracy: 0.8505 - val_recall: 0.6635\n",
      "Epoch 99/100\n",
      "33/33 [==============================] - 6s 180ms/step - loss: 1.1064 - accuracy: 0.5834 - recall: 0.4523 - val_loss: 0.6684 - val_accuracy: 0.7734 - val_recall: 0.6528\n",
      "Epoch 100/100\n",
      "33/33 [==============================] - 6s 186ms/step - loss: 1.1748 - accuracy: 0.5583 - recall: 0.4426 - val_loss: 0.6181 - val_accuracy: 0.8312 - val_recall: 0.6654\n"
     ]
    }
   ],
   "source": [
    "fit = model.fit(train,epochs=100, validation_data=val)#, class_weight = coeff,callbacks=[mcp_save, reduce_lr_loss])"
   ]
  },
  {
   "cell_type": "code",
   "execution_count": 33,
   "metadata": {},
   "outputs": [
    {
     "name": "stdout",
     "output_type": "stream",
     "text": [
      "33/33 [==============================] - 1s 22ms/step - loss: 0.6181 - accuracy: 0.8312 - recall: 0.6654\n"
     ]
    }
   ],
   "source": [
    "score = model.evaluate(train)"
   ]
  },
  {
   "cell_type": "code",
   "execution_count": 34,
   "metadata": {},
   "outputs": [
    {
     "data": {
      "image/png": "[encoded data removed]",
      "text/plain": [
       "<Figure size 640x480 with 1 Axes>"
      ]
     },
     "metadata": {},
     "output_type": "display_data"
    },
    {
     "data": {
      "image/png": "[encoded data removed]",
      "text/plain": [
       "<Figure size 640x480 with 1 Axes>"
      ]
     },
     "metadata": {},
     "output_type": "display_data"
    }
   ],
   "source": [
    "def training_plot(history):\n",
    "    acc = history.history['accuracy']\n",
    "    val_acc = history.history['val_accuracy']\n",
    "    loss = history.history['loss']\n",
    "    val_loss = history.history['val_loss']\n",
    "    epochs = range(1, len(acc) + 1)\n",
    "    plt.plot(epochs, val_acc, 'g', label=\"Précision de validation\")\n",
    "    plt.plot(epochs, acc, 'b', label=\"Précision d'entrainement\")\n",
    "    plt.title(\"Précision d'entrainement et de validation\")\n",
    "    plt.legend()\n",
    "    plt.figure()\n",
    "    plt.plot(epochs, val_loss, 'g', label=\"Perte durant la validation\")\n",
    "    plt.plot(epochs, loss, 'b', label=\"Perte durant l'entrainement\")\n",
    "    plt.title(\"Perte durant l'entrainement et la validation\")\n",
    "    plt.legend()\n",
    "    plt.show()\n",
    "\n",
    "training_plot(fit)"
   ]
  },
  {
   "cell_type": "code",
   "execution_count": 38,
   "metadata": {},
   "outputs": [
    {
     "name": "stdout",
     "output_type": "stream",
     "text": [
      "1/1 [==============================] - 0s 32ms/step\n",
      "1/1 [==============================] - 0s 31ms/step\n",
      "1/1 [==============================] - 0s 31ms/step\n",
      "1/1 [==============================] - 0s 33ms/step\n",
      "1/1 [==============================] - 0s 31ms/step\n",
      "1/1 [==============================] - 0s 31ms/step\n",
      "1/1 [==============================] - 0s 32ms/step\n",
      "1/1 [==============================] - 0s 33ms/step\n",
      "1/1 [==============================] - 0s 37ms/step\n",
      "1/1 [==============================] - 0s 39ms/step\n",
      "1/1 [==============================] - 0s 33ms/step\n",
      "1/1 [==============================] - 0s 39ms/step\n",
      "1/1 [==============================] - 0s 38ms/step\n",
      "1/1 [==============================] - 0s 42ms/step\n",
      "1/1 [==============================] - 0s 43ms/step\n",
      "1/1 [==============================] - 0s 33ms/step\n",
      "1/1 [==============================] - 0s 31ms/step\n",
      "1/1 [==============================] - 0s 86ms/step\n",
      "1/1 [==============================] - 0s 45ms/step\n",
      "1/1 [==============================] - 0s 34ms/step\n",
      "1/1 [==============================] - 0s 34ms/step\n",
      "1/1 [==============================] - 0s 33ms/step\n",
      "1/1 [==============================] - 0s 32ms/step\n",
      "1/1 [==============================] - 0s 33ms/step\n",
      "1/1 [==============================] - 0s 33ms/step\n",
      "1/1 [==============================] - 0s 33ms/step\n",
      "1/1 [==============================] - 0s 30ms/step\n",
      "1/1 [==============================] - 0s 33ms/step\n",
      "1/1 [==============================] - 0s 31ms/step\n",
      "1/1 [==============================] - 0s 34ms/step\n",
      "1/1 [==============================] - 0s 38ms/step\n",
      "1/1 [==============================] - 0s 39ms/step\n",
      "1/1 [==============================] - 0s 30ms/step\n",
      "Matrice de confusion brute :\n",
      "[[103   2   6  36  44]\n",
      " [  2  32   6   9  12]\n",
      " [  0   0 112  11   6]\n",
      " [  0   0   1 177   8]\n",
      " [  1   1   3  27 438]]\n",
      "\n",
      "\n"
     ]
    },
    {
     "name": "stderr",
     "output_type": "stream",
     "text": [
      "C:\\Users\\SebLa\\AppData\\Local\\Temp\\ipykernel_15776\\369173688.py:29: UserWarning: FixedFormatter should only be used together with FixedLocator\n",
      "  ax.set_xticklabels([''] + labels)\n",
      "C:\\Users\\SebLa\\AppData\\Local\\Temp\\ipykernel_15776\\369173688.py:30: UserWarning: FixedFormatter should only be used together with FixedLocator\n",
      "  ax.set_yticklabels([''] + labels)\n"
     ]
    },
    {
     "data": {
      "image/png": "[encoded data removed]",
      "text/plain": [
       "<Figure size 3000x3000 with 2 Axes>"
      ]
     },
     "metadata": {},
     "output_type": "display_data"
    }
   ],
   "source": [
    "from sklearn.metrics import confusion_matrix\n",
    "from numpy import argmax\n",
    "\n",
    "\n",
    "# ------------- Calculs préliminaires -------------\n",
    "y_true = []\n",
    "y_pred = []\n",
    "for x, y in val:\n",
    "    y = tf.argmax(y, axis = 1)\n",
    "    y_true.append(y)\n",
    "    y_pred.append(tf.argmax(model.predict(x), axis = 1))\n",
    "\n",
    "y_pred = tf.concat(y_pred, axis=0)\n",
    "y_true = tf.concat(y_true, axis=0)\n",
    "\n",
    "\n",
    "# ------------- Matrice de confusion -------------\n",
    "cm = confusion_matrix(y_true, y_pred)\n",
    "\n",
    "print(\"Matrice de confusion brute :\")\n",
    "print(cm)\n",
    "print(\"\\n\")\n",
    "\n",
    "fig = plt.figure(figsize=(30,30))\n",
    "ax = fig.add_subplot(211)\n",
    "cax = ax.matshow(cm)\n",
    "plt.title('Matrice de confusion')\n",
    "fig.colorbar(cax)\n",
    "ax.set_xticklabels([''] + labels)\n",
    "ax.set_yticklabels([''] + labels)\n",
    "plt.xlabel('\\n Prédiction')\n",
    "plt.ylabel('Réalité')\n",
    "plt.title(\"Matrice de confusion résultant du modèle\\n\")\n",
    "plt.show()"
   ]
  },
  {
   "cell_type": "code",
   "execution_count": 39,
   "metadata": {},
   "outputs": [
    {
     "name": "stdout",
     "output_type": "stream",
     "text": [
      "Rapport de classification :\n",
      "\n",
      "              precision    recall  f1-score   support\n",
      "\n",
      "          EO       0.97      0.54      0.69       191\n",
      "          IO       0.91      0.52      0.67        61\n",
      "        IPTE       0.88      0.87      0.87       129\n",
      "          LO       0.68      0.95      0.79       186\n",
      "         PTE       0.86      0.93      0.90       470\n",
      "\n",
      "    accuracy                           0.83      1037\n",
      "   macro avg       0.86      0.76      0.78      1037\n",
      "weighted avg       0.85      0.83      0.82      1037\n",
      "\n"
     ]
    }
   ],
   "source": [
    "from sklearn.metrics import classification_report\n",
    "\n",
    "print(\"Rapport de classification :\\n\")\n",
    "print(classification_report(y_true, y_pred, target_names=classes, digits=2))"
   ]
  },
  {
   "cell_type": "markdown",
   "metadata": {},
   "source": [
    "# Transfer Learning"
   ]
  },
  {
   "cell_type": "code",
   "execution_count": null,
   "metadata": {},
   "outputs": [],
   "source": []
  }
 ],
 "metadata": {
  "accelerator": "GPU",
  "colab": {
   "provenance": []
  },
  "gpuClass": "standard",
  "kernelspec": {
   "display_name": "Python 3 (ipykernel)",
   "language": "python",
   "name": "python3"
  },
  "language_info": {
   "codemirror_mode": {
    "name": "ipython",
    "version": 3
   },
   "file_extension": ".py",
   "mimetype": "text/x-python",
   "name": "python",
   "nbconvert_exporter": "python",
   "pygments_lexer": "ipython3",
   "version": "3.10.10"
  },
  "vscode": {
   "interpreter": {
    "hash": "916dbcbb3f70747c44a77c7bcd40155683ae19c65e1c03b4aa3499c5328201f1"
   }
  }
 },
 "nbformat": 4,
 "nbformat_minor": 1
}
